{
 "cells": [
  {
   "cell_type": "markdown",
   "metadata": {},
   "source": [
    "# Import libraries"
   ]
  },
  {
   "cell_type": "code",
   "execution_count": null,
   "metadata": {},
   "outputs": [],
   "source": [
    "import pandas as pd\n",
    "import matplotlib.pyplot as plt\n",
    "import io\n",
    "import requests\n",
    "from datetime import datetime, timedelta\n",
    "import numpy as np\n",
    "import requests\n",
    "from bs4 import BeautifulSoup\n",
    "from datetime import datetime \n",
    "import dateutil.tz"
   ]
  },
  {
   "cell_type": "code",
   "execution_count": null,
   "metadata": {},
   "outputs": [],
   "source": [
    "URL = 'https://www.worldometers.info/coronavirus/'\n",
    "page = requests.get(URL)\n",
    "soup = BeautifulSoup(page.content, 'html.parser')\n",
    "idx_incl_world = []\n",
    "for idx, text in enumerate(soup.find_all('tr', class_='total_row_world')):\n",
    "    if (str(text).find(\"World\")!=-1):\n",
    "        idx_incl_world.append(idx)\n",
    "    \n",
    "\n",
    "today_number = [txt.text for txt in soup.find_all('tr', class_='total_row')[idx_incl_world[0]].find_all('td')]\n",
    "yesterday_number = [txt.text for txt in soup.find_all('tr', class_='total_row')[idx_incl_world[1]].find_all('td')]\n",
    "now = datetime.now(dateutil.tz.tzutc())\n",
    "print(\"Data Pulled @ {}\".format(now))\n",
    "print(\"\\n<<RECENT UPDATE>>\")\n",
    "print(' Total Cases \\t\\t: {}\\n New Cases \\t\\t: {}\\n Total Deaths \\t\\t: {}\\n New Deaths \\t\\t: {}\\n Total Recovered \\t: {}\\n\\\n",
    " Active Cases \\t\\t: {}\\n Serious Critical \\t: {}'.format(today_number[1],today_number[2],today_number[3],today_number[4]\\\n",
    "                                                 ,today_number[5],today_number[6],today_number[7]))\n",
    "print(\"\\n<<Yesterday>>\")\n",
    "print(' Total Cases \\t\\t: {}\\n New Cases \\t\\t: {}\\n Total Deaths \\t\\t: {}\\n New Deaths \\t\\t: {}\\n Total Recovered \\t: {}\\n\\\n",
    " Active Cases \\t\\t: {}\\n Serious Critical \\t: {}'.format(yesterday_number[1],yesterday_number[2],yesterday_number[3],yesterday_number[4]\\\n",
    "                                                 ,yesterday_number[5],yesterday_number[6],yesterday_number[7]))\n",
    "\n",
    "# job_elems = soup.find_all('script', type='text/javascript')\n",
    "# for job_elem in job_elems:\n",
    "#     if (job_elem.get_text().find('Highcharts.chart')!=-1):        \n",
    "#         for line in job_elem.get_text().split('\\n'):            \n",
    "#             if(line.find(' Highcharts.chart(')!=-1):\n",
    "#                 print(line)\n",
    "#             if(line.find('data')!=-1):\n",
    "#                 data = line.split('[')[1].split(']')[0].split(',')\n",
    "#                 print(data)"
   ]
  },
  {
   "cell_type": "markdown",
   "metadata": {},
   "source": [
    "# Load CSV Files\n",
    "* Total Cases"
   ]
  },
  {
   "cell_type": "code",
   "execution_count": null,
   "metadata": {},
   "outputs": [],
   "source": [
    "s0=requests.get('https://covid.ourworldindata.org/data/ecdc/total_cases.csv').content\n",
    "total_cases = pd.read_csv(io.StringIO(s0.decode('utf-8'))).set_index('date')\n",
    "total_cases.columns.name='Country/Region'\n",
    "total_cases.tail()"
   ]
  },
  {
   "cell_type": "markdown",
   "metadata": {},
   "source": [
    "* Total Deaths"
   ]
  },
  {
   "cell_type": "code",
   "execution_count": null,
   "metadata": {},
   "outputs": [],
   "source": [
    "s1=requests.get('https://covid.ourworldindata.org/data/ecdc/total_deaths.csv').content\n",
    "total_deaths = pd.read_csv(io.StringIO(s1.decode('utf-8'))).set_index('date')\n",
    "total_deaths.columns.name='Country/Region'\n",
    "total_deaths.tail()"
   ]
  },
  {
   "cell_type": "markdown",
   "metadata": {},
   "source": [
    "* Total Recovered"
   ]
  },
  {
   "cell_type": "code",
   "execution_count": null,
   "metadata": {},
   "outputs": [],
   "source": [
    "s2=requests.get('https://data.humdata.org/hxlproxy/api/data-preview.csv?url=https%3A%2F%2Fraw.githubusercontent.com%2FCSSEGISandData%2FCOVID-19%2Fmaster%2Fcsse_covid_19_data%2Fcsse_covid_19_time_series%2Ftime_series_covid19_recovered_global.csv&filename=time_series_covid19_recovered_global.csv').content\n",
    "total_recovered_raw = pd.read_csv(io.StringIO(s2.decode('utf-8')))\n",
    "tr = total_recovered_raw.drop(['Lat','Long'],axis=1).groupby('Country/Region').sum().transpose()\n",
    "tr = tr.rename(columns={\"US\":\"United States\",'Korea, South':'South Korea'})\n",
    "tr_idx = tr.index\n",
    "tr_idx_formatted = [(datetime.strptime(idx,'%m/%d/%y').strftime('%Y-%m-%d')) for idx in tr_idx]\n",
    "tr = tr.set_index([pd.Series(tr_idx_formatted)])\n",
    "tr_sum = tr.sum(axis=1).to_frame()\n",
    "tr_sum.columns={\"World\"}\n",
    "total_recovered = pd.concat([tr, tr_sum.reindex(tr.index)], axis=1)\n",
    "total_recovered.index.names=['date']\n",
    "total_recovered.tail()"
   ]
  },
  {
   "cell_type": "markdown",
   "metadata": {},
   "source": [
    "# Select focused data\n",
    "* List current top twenties countries and Singapore + Malaysia"
   ]
  },
  {
   "cell_type": "code",
   "execution_count": null,
   "metadata": {},
   "outputs": [],
   "source": [
    "# today_str = datetime.utcnow().date().strftime('%Y-%m-%d')\n",
    "# yesterday_str = (datetime.utcnow().date()-timedelta(days=1)).strftime('%Y-%m-%d')\n",
    "tc_idx = total_cases.index\n",
    "tc_latest_date = tc_idx[len(tc_idx)-1]\n",
    "print(\"Latest Data Date : \" , tc_latest_date)\n",
    "total_cases = total_cases.sort_values(by=tc_latest_date,axis=1,ascending=False)\n",
    "total_deaths = total_deaths.sort_values(by=tc_latest_date,axis=1,ascending=False)\n",
    "Top_20 = list(total_cases.columns[0:21])\n",
    "print('Top 20 countries are : ', Top_20[1:21])\n",
    "Interested_countries = Top_20 + ['Singapore','Malaysia']"
   ]
  },
  {
   "cell_type": "markdown",
   "metadata": {},
   "source": [
    "* Filter with only the interested countries"
   ]
  },
  {
   "cell_type": "code",
   "execution_count": null,
   "metadata": {},
   "outputs": [],
   "source": [
    "IC_total_cases = total_cases[Interested_countries].fillna(method='ffill').fillna(0)\n",
    "IC_total_deaths = total_deaths[Interested_countries].fillna(method='ffill').fillna(0)\n",
    "IC_total_recovered = total_recovered[Interested_countries]"
   ]
  },
  {
   "cell_type": "markdown",
   "metadata": {},
   "source": [
    "* Get growth rate tables"
   ]
  },
  {
   "cell_type": "code",
   "execution_count": null,
   "metadata": {
    "scrolled": true
   },
   "outputs": [],
   "source": [
    "IC_total_cases_inc = IC_total_cases.diff(axis=0).fillna(0)\n",
    "IC_total_cases_inc.tail()"
   ]
  },
  {
   "cell_type": "code",
   "execution_count": null,
   "metadata": {},
   "outputs": [],
   "source": [
    "# Moving average\n",
    "IC_total_cases_inc_ma = IC_total_cases_inc.rolling(window=3).mean()\n",
    "IC_total_cases_inc_ma.tail()"
   ]
  },
  {
   "cell_type": "markdown",
   "metadata": {},
   "source": [
    "# Plot data"
   ]
  },
  {
   "cell_type": "code",
   "execution_count": null,
   "metadata": {},
   "outputs": [],
   "source": [
    "for country in Interested_countries:\n",
    "    plt.rcParams[\"figure.figsize\"] = (20,5)\n",
    "    fig, (ax1, ax2) = plt.subplots(2)        \n",
    "    ax1.grid(color='b', linestyle='-.', linewidth=1)\n",
    "    ax1.plot(list(IC_total_cases_inc_ma[country]))   \n",
    "    ax2.set_yscale('log')\n",
    "    ls_IC_total_cases = list(IC_total_cases[country])\n",
    "    ax2.plot(ls_IC_total_cases)\n",
    "    ax2.grid(color='b', linestyle='-.', linewidth=1)\n",
    "    ax2.set_ylim([0,10**(round(np.log10(max(ls_IC_total_cases)))+1)])\n",
    "    fig.suptitle(country)\n",
    "    "
   ]
  },
  {
   "cell_type": "markdown",
   "metadata": {},
   "source": [
    "# Plot table"
   ]
  },
  {
   "cell_type": "code",
   "execution_count": null,
   "metadata": {},
   "outputs": [],
   "source": [
    "tr_idx = total_recovered.index\n",
    "tr_latest_date = tr_idx[len(tr_idx)-1]\n",
    "print(tr_latest_date)\n",
    "last_day_rate = [int(IC_total_cases_inc[country][-1]) for country in Interested_countries]\n",
    "last_3days_rate = [int(IC_total_cases_inc_ma[country][-1].mean()) for country in Interested_countries]\n",
    "last_7days_rate = [int(IC_total_cases_inc[country][-7:-1].mean()) for country in Interested_countries]\n",
    "TotalCase = [IC_total_cases[country][-1] for country in Interested_countries]\n",
    "TotalDeath = [IC_total_deaths[country][-1] for country in Interested_countries]\n",
    "TotalRecovered = list(IC_total_recovered.loc[tr_latest_date,:])\n",
    "DeathRatio = [td/(tr+td)*100 for td, tr in zip(TotalDeath, TotalRecovered)]\n",
    "Dropping = [l3<l7 for l3, l7 in zip(last_3days_rate, last_7days_rate)]\n",
    "\n",
    "\n",
    "last_rate_dict = {'country':Interested_countries, 'Last day inc':last_day_rate,'Last 3 days average inc' :last_3days_rate, \n",
    "                  'Last 7 days inc':last_7days_rate, 'TotalCase': TotalCase, 'TotalRecovered':TotalRecovered,\n",
    "                  'TotalDeath': TotalDeath, 'DeathRatio %': DeathRatio, 'Dropping':Dropping}\n",
    "pd.DataFrame.from_dict(last_rate_dict).set_index('country')"
   ]
  },
  {
   "cell_type": "code",
   "execution_count": null,
   "metadata": {},
   "outputs": [],
   "source": []
  }
 ],
 "metadata": {
  "kernelspec": {
   "display_name": "Python 3",
   "language": "python",
   "name": "python3"
  },
  "language_info": {
   "codemirror_mode": {
    "name": "ipython",
    "version": 3
   },
   "file_extension": ".py",
   "mimetype": "text/x-python",
   "name": "python",
   "nbconvert_exporter": "python",
   "pygments_lexer": "ipython3",
   "version": "3.7.1"
  }
 },
 "nbformat": 4,
 "nbformat_minor": 2
}
